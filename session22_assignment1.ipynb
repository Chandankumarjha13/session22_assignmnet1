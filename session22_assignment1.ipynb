{
 "cells": [
  {
   "cell_type": "code",
   "execution_count": 21,
   "metadata": {},
   "outputs": [],
   "source": [
    "import numpy as np\n",
    "import matplotlib.pyplot as plt\n",
    "\n",
    "from sklearn.cross_validation import train_test_split\n",
    "from sklearn.preprocessing import StandardScaler\n",
    "from sklearn.cross_validation import *\n",
    "from sklearn.linear_model import SGDRegressor\n",
    "from sklearn import ensemble\n",
    "from sklearn import metrics\n",
    "from sklearn.datasets import load_boston\n",
    "import warnings\n",
    "warnings.filterwarnings(\"ignore\")"
   ]
  },
  {
   "cell_type": "code",
   "execution_count": 22,
   "metadata": {},
   "outputs": [
    {
     "name": "stdout",
     "output_type": "stream",
     "text": [
      "(506, 13)\n",
      "['CRIM' 'ZN' 'INDUS' 'CHAS' 'NOX' 'RM' 'AGE' 'DIS' 'RAD' 'TAX' 'PTRATIO'\n",
      " 'B' 'LSTAT']\n",
      "50.0 5.0 22.532806324110677\n"
     ]
    }
   ],
   "source": [
    "boston=load_boston()\n",
    "print(boston.data.shape)\n",
    "print(boston.feature_names)\n",
    "print(np.max(boston.target),np.min(boston.target),np.mean(boston.target))"
   ]
  },
  {
   "cell_type": "code",
   "execution_count": 23,
   "metadata": {},
   "outputs": [
    {
     "name": "stdout",
     "output_type": "stream",
     "text": [
      "10.202898004591216 -4.6670204084548 2.4703870638462586e-15 2.9177492036731256 -1.931470986413033 3.5855223803197665e-16\n"
     ]
    }
   ],
   "source": [
    "X_train,X_test,y_train,y_test=train_test_split(boston.data,boston.target,test_size=0.25,random_state=33)\n",
    "scalerX = StandardScaler().fit(X_train)\n",
    "scalery = StandardScaler().fit(np.reshape(y_train,(-1,1)))\n",
    "\n",
    "X_train = scalerX.transform(X_train)\n",
    "y_train = scalery.transform(np.reshape(y_train,(-1,1)))\n",
    "X_test = scalerX.transform(X_test)\n",
    "y_test = scalery.transform(np.reshape(y_test,(-1,1)))\n",
    "\n",
    "print (np.max(X_train), np.min(X_train), np.mean(X_train), np.max(y_train), np.min(y_train), np.mean(y_train))\n",
    "# converting reshaped Y vector into array again\n",
    "y_train=y_train.flatten(order='C')\n",
    "y_test=y_test.flatten(order='C')"
   ]
  },
  {
   "cell_type": "code",
   "execution_count": 24,
   "metadata": {},
   "outputs": [],
   "source": [
    "def train_and_evaluate(clf, X_train, y_train):\n",
    "    \n",
    "    clf.fit(X_train, y_train)\n",
    "    \n",
    "    print (\"Coefficient of determination on training set:\",clf.score(X_train, y_train))\n",
    "    \n",
    "    cv = KFold(X_train.shape[0], 5, shuffle=True, random_state=33)\n",
    "    scores = cross_val_score(clf, X_train, y_train, cv=cv)\n",
    "    print (\"Average coefficient of determination using 5-fold crossvalidation:\",np.mean(scores))"
   ]
  },
  {
   "cell_type": "code",
   "execution_count": 36,
   "metadata": {},
   "outputs": [],
   "source": [
    "def feature_importance_chart(clf, classifier_name, feature_names):\n",
    "    sorted_feature_importances, sorted_feature_names = (\n",
    "        zip(*sorted(zip(clf.feature_importances_, feature_names)))\n",
    "    )\n",
    "    plt.figure(figsize=(16, 9))\n",
    "    plt.barh(range(len(sorted_feature_importances)), sorted_feature_importances)\n",
    "    plt.yticks(\n",
    "        range(len(sorted_feature_importances)),\n",
    "        [\"{}: {:.3}\".format(a, b) for a, b in zip(sorted_feature_names, sorted_feature_importances)]\n",
    "    )\n",
    "    plt.title(\"The Gini feature importance for the {} \\n\"\n",
    "              \"(total decrease in node impurity, weighted by the \"\n",
    "              \"probability of reaching that node)\".format(classifier_name))\n",
    "    plt.show()"
   ]
  },
  {
   "cell_type": "code",
   "execution_count": 25,
   "metadata": {},
   "outputs": [
    {
     "name": "stdout",
     "output_type": "stream",
     "text": [
      "Coefficient of determination on training set: 0.7402817036889138\n",
      "Average coefficient of determination using 5-fold crossvalidation: 0.7136305962554014\n",
      "[-0.07634694  0.06117706 -0.03404977  0.1076101  -0.06620428  0.35855438\n",
      " -0.0098127  -0.21344242  0.0921319  -0.03985987 -0.18753121  0.05267773\n",
      " -0.37137355]\n"
     ]
    }
   ],
   "source": [
    "clf1=SGDRegressor(loss='squared_loss', penalty=None,  random_state=33)\n",
    "train_and_evaluate(clf1,X_train,y_train)\n",
    "print (clf1.coef_)"
   ]
  },
  {
   "cell_type": "code",
   "execution_count": 26,
   "metadata": {},
   "outputs": [
    {
     "name": "stdout",
     "output_type": "stream",
     "text": [
      "Coefficient of determination on training set: 0.7436167432081849\n",
      "Average coefficient of determination using 5-fold crossvalidation: 0.7108120666700934\n"
     ]
    }
   ],
   "source": [
    "clf2 = SGDRegressor(loss='squared_loss', penalty='l2',  random_state=42)\n",
    "train_and_evaluate(clf2,X_train,y_train)"
   ]
  },
  {
   "cell_type": "code",
   "execution_count": 27,
   "metadata": {},
   "outputs": [
    {
     "name": "stdout",
     "output_type": "stream",
     "text": [
      "Coefficient of determination on training set: 0.7435869229095474\n",
      "Average coefficient of determination using 5-fold crossvalidation: 0.7107636098744696\n"
     ]
    }
   ],
   "source": [
    "clf3 = SGDRegressor(loss='squared_loss', penalty='l1',  random_state=42)\n",
    "train_and_evaluate(clf3,X_train,y_train)"
   ]
  },
  {
   "cell_type": "code",
   "execution_count": 28,
   "metadata": {},
   "outputs": [
    {
     "name": "stdout",
     "output_type": "stream",
     "text": [
      "Coefficient of determination on training set: 0.7188692334197399\n",
      "Average coefficient of determination using 5-fold crossvalidation: 0.7078384191936957\n"
     ]
    }
   ],
   "source": [
    "# Use of SVM for regression\n",
    "\n",
    "from sklearn import svm\n",
    "svr1= svm.SVR(kernel='linear')\n",
    "train_and_evaluate(svr1,X_train,y_train)"
   ]
  },
  {
   "cell_type": "code",
   "execution_count": 29,
   "metadata": {},
   "outputs": [
    {
     "name": "stdout",
     "output_type": "stream",
     "text": [
      "Coefficient of determination on training set: 0.9041092733006806\n",
      "Average coefficient of determination using 5-fold crossvalidation: 0.7792885454878019\n"
     ]
    }
   ],
   "source": [
    "svr2=svm.SVR(kernel='poly')\n",
    "train_and_evaluate(svr2,X_train,y_train)"
   ]
  },
  {
   "cell_type": "code",
   "execution_count": 30,
   "metadata": {},
   "outputs": [
    {
     "name": "stdout",
     "output_type": "stream",
     "text": [
      "Coefficient of determination on training set: 0.9001320659785192\n",
      "Average coefficient of determination using 5-fold crossvalidation: 0.8336622215665088\n"
     ]
    }
   ],
   "source": [
    "svr3=svm.SVR(kernel='rbf')\n",
    "train_and_evaluate(svr3,X_train,y_train)"
   ]
  },
  {
   "cell_type": "code",
   "execution_count": 31,
   "metadata": {},
   "outputs": [],
   "source": [
    "# Use of Random Forest regressor"
   ]
  },
  {
   "cell_type": "code",
   "execution_count": 32,
   "metadata": {},
   "outputs": [
    {
     "name": "stdout",
     "output_type": "stream",
     "text": [
      "Coefficient of determination on training set: 1.0\n",
      "Average coefficient of determination using 5-fold crossvalidation: 0.8617589783439273\n"
     ]
    }
   ],
   "source": [
    "\n",
    "et1=ensemble.ExtraTreesRegressor(n_estimators=10,random_state=42)\n",
    "train_and_evaluate(et1,X_train,y_train)"
   ]
  },
  {
   "cell_type": "code",
   "execution_count": 33,
   "metadata": {},
   "outputs": [
    {
     "name": "stdout",
     "output_type": "stream",
     "text": [
      "[(0.005043853202755884, 'ZN'), (0.015142513715149682, 'B'), (0.017052578400506287, 'AGE'), (0.018941821085751577, 'RAD'), (0.023602561777571307, 'CHAS'), (0.025733049004581798, 'CRIM'), (0.03187416223510046, 'NOX'), (0.03440564493930893, 'INDUS'), (0.039713133345196064, 'DIS'), (0.046618521397262996, 'TAX'), (0.09951180149276224, 'PTRATIO'), (0.28421522796368465, 'LSTAT'), (0.3581451314403682, 'RM')]\n"
     ]
    }
   ],
   "source": [
    "important=zip(et1.feature_importances_,boston.feature_names)\n",
    "print (sorted(important))"
   ]
  },
  {
   "cell_type": "code",
   "execution_count": 34,
   "metadata": {},
   "outputs": [],
   "source": [
    "def measure_performance(X,y,clf, show_accuracy=True, show_classification_report=True,\n",
    "                        show_confusion_matrix=True, show_r2_score=False):\n",
    "    y_pred=clf.predict(X)   \n",
    "    if show_accuracy:\n",
    "        print (\"Accuracy:{0:.3f}\".format(metrics.accuracy_score(y,y_pred)),\"\\n\")\n",
    "\n",
    "    if show_classification_report:\n",
    "        print (\"Classification report\")\n",
    "        print (metrics.classification_report(y,y_pred),\"\\n\")\n",
    "        \n",
    "    if show_confusion_matrix:\n",
    "        print (\"Confusion matrix\")\n",
    "        print (metrics.confusion_matrix(y,y_pred),\"\\n\")\n",
    "        \n",
    "    if show_r2_score:\n",
    "        print (\"Coefficient of determination:{0:.3f}\".format(metrics.r2_score(y,y_pred)),\"\\n\")"
   ]
  },
  {
   "cell_type": "code",
   "execution_count": 35,
   "metadata": {},
   "outputs": [
    {
     "name": "stdout",
     "output_type": "stream",
     "text": [
      "Coefficient of determination:0.802 \n",
      "\n"
     ]
    }
   ],
   "source": [
    "measure_performance(X_test,y_test,et1, show_accuracy=False, show_classification_report=False,\n",
    "                    show_confusion_matrix=False, show_r2_score=True)"
   ]
  },
  {
   "cell_type": "code",
   "execution_count": null,
   "metadata": {},
   "outputs": [],
   "source": []
  }
 ],
 "metadata": {
  "kernelspec": {
   "display_name": "Python 3",
   "language": "python",
   "name": "python3"
  },
  "language_info": {
   "codemirror_mode": {
    "name": "ipython",
    "version": 3
   },
   "file_extension": ".py",
   "mimetype": "text/x-python",
   "name": "python",
   "nbconvert_exporter": "python",
   "pygments_lexer": "ipython3",
   "version": "3.6.4"
  }
 },
 "nbformat": 4,
 "nbformat_minor": 2
}
